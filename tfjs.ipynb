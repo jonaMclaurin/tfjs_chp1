{
  "nbformat": 4,
  "nbformat_minor": 0,
  "metadata": {
    "colab": {
      "name": "tfjs.ipynb",
      "provenance": [],
      "collapsed_sections": [],
      "authorship_tag": "ABX9TyN+/VQWbSM4Lin0YPNuOabm",
      "include_colab_link": true
    },
    "kernelspec": {
      "name": "python3",
      "display_name": "Python 3"
    }
  },
  "cells": [
    {
      "cell_type": "markdown",
      "metadata": {
        "id": "view-in-github",
        "colab_type": "text"
      },
      "source": [
        "<a href=\"https://colab.research.google.com/github/jonaMclaurin/tfjs_chp1/blob/master/tfjs.ipynb\" target=\"_parent\"><img src=\"https://colab.research.google.com/assets/colab-badge.svg\" alt=\"Open In Colab\"/></a>"
      ]
    },
    {
      "cell_type": "code",
      "metadata": {
        "id": "GLK9mxi6VHbr",
        "colab_type": "code",
        "colab": {
          "base_uri": "https://localhost:8080/",
          "height": 84
        },
        "outputId": "48415138-1357-4031-a288-15ac81112427"
      },
      "source": [
        "%%html\n",
        "<script src='https://cdn.jsdelivr.net/npm/@tensorflow/tfjs@latest'></script>\n",
        "<pre id=\"output\"></pre>\n",
        "<script>\n",
        "let output = document.getElementById('output')\n",
        "\n",
        "  const trainData = {\n",
        "  sizeMB:  [0.080, 9.000, 0.001, 0.100, 8.000, 5.000, 0.100, 6.000, 0.050, 0.500,\n",
        "            0.002, 2.000, 0.005, 10.00, 0.010, 7.000, 6.000, 5.000, 1.000, 1.000],\n",
        "  timeSec: [0.135, 0.739, 0.067, 0.126, 0.646, 0.435, 0.069, 0.497, 0.068, 0.116,\n",
        "            0.070, 0.289, 0.076, 0.744, 0.083, 0.560, 0.480, 0.399, 0.153, 0.149]\n",
        "};\n",
        "const testData = {\n",
        "  sizeMB:  [5.000, 0.200, 0.001, 9.000, 0.002, 0.020, 0.008, 4.000, 0.001, 1.000,\n",
        "            0.005, 0.080, 0.800, 0.200, 0.050, 7.000, 0.005, 0.002, 8.000, 0.008],\n",
        "  timeSec: [0.425, 0.098, 0.052, 0.686, 0.066, 0.078, 0.070, 0.375, 0.058, 0.136,\n",
        "            0.052, 0.063, 0.183, 0.087, 0.066, 0.558, 0.066, 0.068, 0.610, 0.057]\n",
        "};\n",
        "\n",
        "const trainTensors = {\n",
        "  sizeMB: tf.tensor2d(trainData.sizeMB, [20,1]),\n",
        "  timeSec: tf.tensor2d(trainData.timeSec, [20,1])\n",
        "}\n",
        "\n",
        "const testTensors = {\n",
        "  sizeMB: tf.tensor2d(testData.sizeMB, [20,1]),\n",
        "  timeSec: tf.tensor2d(testData.timeSec, [20,1])\n",
        "}\n",
        "\n",
        "const model = tf.sequential();\n",
        "model.add(tf.layers.dense({inputShape: [1], units: 1}));\n",
        "model.compile({optimizer: 'sgd', loss: 'meanAbsoluteError'});\n",
        "\n",
        "(async function(){\n",
        "  await model.fit(\n",
        "    trainTensors.sizeMB,\n",
        "    trainTensors.timeSec,\n",
        "    {epochs: 200}\n",
        "  );\n",
        "})();\n",
        "\n",
        "model.evaluate(testTensors.sizeMB, testTensors.timeSec);\n",
        "\n",
        "const smallFileMB = 1;\n",
        "const bigFileMB = 100;\n",
        "const hugeFileMB = 10000;\n",
        "let t = model.predict(tf.tensor2d([[smallFileMB], [bigFileMB],\n",
        "[hugeFileMB]]));\n",
        "output.textContent = t\n",
        "</script>"
      ],
      "execution_count": 23,
      "outputs": [
        {
          "output_type": "display_data",
          "data": {
            "text/html": [
              "<script src='https://cdn.jsdelivr.net/npm/@tensorflow/tfjs@latest'></script>\n",
              "<pre id=\"output\"></pre>\n",
              "<script>\n",
              "let output = document.getElementById('output')\n",
              "\n",
              "  const trainData = {\n",
              "  sizeMB:  [0.080, 9.000, 0.001, 0.100, 8.000, 5.000, 0.100, 6.000, 0.050, 0.500,\n",
              "            0.002, 2.000, 0.005, 10.00, 0.010, 7.000, 6.000, 5.000, 1.000, 1.000],\n",
              "  timeSec: [0.135, 0.739, 0.067, 0.126, 0.646, 0.435, 0.069, 0.497, 0.068, 0.116,\n",
              "            0.070, 0.289, 0.076, 0.744, 0.083, 0.560, 0.480, 0.399, 0.153, 0.149]\n",
              "};\n",
              "const testData = {\n",
              "  sizeMB:  [5.000, 0.200, 0.001, 9.000, 0.002, 0.020, 0.008, 4.000, 0.001, 1.000,\n",
              "            0.005, 0.080, 0.800, 0.200, 0.050, 7.000, 0.005, 0.002, 8.000, 0.008],\n",
              "  timeSec: [0.425, 0.098, 0.052, 0.686, 0.066, 0.078, 0.070, 0.375, 0.058, 0.136,\n",
              "            0.052, 0.063, 0.183, 0.087, 0.066, 0.558, 0.066, 0.068, 0.610, 0.057]\n",
              "};\n",
              "\n",
              "const trainTensors = {\n",
              "  sizeMB: tf.tensor2d(trainData.sizeMB, [20,1]),\n",
              "  timeSec: tf.tensor2d(trainData.timeSec, [20,1])\n",
              "}\n",
              "\n",
              "const testTensors = {\n",
              "  sizeMB: tf.tensor2d(testData.sizeMB, [20,1]),\n",
              "  timeSec: tf.tensor2d(testData.timeSec, [20,1])\n",
              "}\n",
              "\n",
              "const model = tf.sequential();\n",
              "model.add(tf.layers.dense({inputShape: [1], units: 1}));\n",
              "model.compile({optimizer: 'sgd', loss: 'meanAbsoluteError'});\n",
              "\n",
              "(async function(){\n",
              "  await model.fit(\n",
              "    trainTensors.sizeMB,\n",
              "    trainTensors.timeSec,\n",
              "    {epochs: 200}\n",
              "  );\n",
              "})();\n",
              "\n",
              "model.evaluate(testTensors.sizeMB, testTensors.timeSec);\n",
              "\n",
              "const smallFileMB = 1;\n",
              "const bigFileMB = 100;\n",
              "const hugeFileMB = 10000;\n",
              "let t = model.predict(tf.tensor2d([[smallFileMB], [bigFileMB],\n",
              "[hugeFileMB]]));\n",
              "output.textContent = t\n",
              "</script>"
            ],
            "text/plain": [
              "<IPython.core.display.HTML object>"
            ]
          },
          "metadata": {
            "tags": []
          }
        }
      ]
    }
  ]
}